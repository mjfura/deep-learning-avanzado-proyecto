{
 "cells": [
  {
   "cell_type": "code",
   "execution_count": 1,
   "metadata": {},
   "outputs": [
    {
     "name": "stderr",
     "output_type": "stream",
     "text": [
      "/Users/marcofura/anaconda3/envs/deep_learning_avanzado/lib/python3.10/site-packages/tqdm/auto.py:21: TqdmWarning: IProgress not found. Please update jupyter and ipywidgets. See https://ipywidgets.readthedocs.io/en/stable/user_install.html\n",
      "  from .autonotebook import tqdm as notebook_tqdm\n",
      "/var/folders/xw/ksr09pc96kqcwxk95_zhnv080000gn/T/ipykernel_53019/299692995.py:1: UserWarning: Module 'speechbrain.pretrained' was deprecated, redirecting to 'speechbrain.inference'. Please update your script. This is a change from SpeechBrain 1.0. See: https://github.com/speechbrain/speechbrain/releases/tag/v1.0.0\n",
      "  from speechbrain.pretrained import SpeakerRecognition\n"
     ]
    }
   ],
   "source": [
    "from speechbrain.pretrained import SpeakerRecognition\n",
    "import torchaudio\n",
    "import torch"
   ]
  },
  {
   "cell_type": "code",
   "execution_count": 2,
   "metadata": {},
   "outputs": [
    {
     "name": "stderr",
     "output_type": "stream",
     "text": [
      "/Users/marcofura/anaconda3/envs/deep_learning_avanzado/lib/python3.10/site-packages/speechbrain/utils/autocast.py:68: FutureWarning: `torch.cuda.amp.custom_fwd(args...)` is deprecated. Please use `torch.amp.custom_fwd(args..., device_type='cuda')` instead.\n",
      "  wrapped_fwd = torch.cuda.amp.custom_fwd(fwd, cast_inputs=cast_inputs)\n",
      "/Users/marcofura/anaconda3/envs/deep_learning_avanzado/lib/python3.10/site-packages/speechbrain/utils/checkpoints.py:200: FutureWarning: You are using `torch.load` with `weights_only=False` (the current default value), which uses the default pickle module implicitly. It is possible to construct malicious pickle data which will execute arbitrary code during unpickling (See https://github.com/pytorch/pytorch/blob/main/SECURITY.md#untrusted-models for more details). In a future release, the default value for `weights_only` will be flipped to `True`. This limits the functions that could be executed during unpickling. Arbitrary objects will no longer be allowed to be loaded via this mode unless they are explicitly allowlisted by the user via `torch.serialization.add_safe_globals`. We recommend you start setting `weights_only=True` for any use case where you don't have full control of the loaded file. Please open an issue on GitHub for any issues related to this experimental feature.\n",
      "  state_dict = torch.load(path, map_location=device)\n",
      "/Users/marcofura/anaconda3/envs/deep_learning_avanzado/lib/python3.10/site-packages/speechbrain/processing/features.py:1311: FutureWarning: You are using `torch.load` with `weights_only=False` (the current default value), which uses the default pickle module implicitly. It is possible to construct malicious pickle data which will execute arbitrary code during unpickling (See https://github.com/pytorch/pytorch/blob/main/SECURITY.md#untrusted-models for more details). In a future release, the default value for `weights_only` will be flipped to `True`. This limits the functions that could be executed during unpickling. Arbitrary objects will no longer be allowed to be loaded via this mode unless they are explicitly allowlisted by the user via `torch.serialization.add_safe_globals`. We recommend you start setting `weights_only=True` for any use case where you don't have full control of the loaded file. Please open an issue on GitHub for any issues related to this experimental feature.\n",
      "  stats = torch.load(path, map_location=device)\n"
     ]
    }
   ],
   "source": [
    "model = SpeakerRecognition.from_hparams(\n",
    "    source=\"speechbrain/spkrec-ecapa-voxceleb\", savedir=\"pretrained_models/spkrec\"\n",
    ")"
   ]
  },
  {
   "cell_type": "code",
   "execution_count": 3,
   "metadata": {},
   "outputs": [],
   "source": [
    "# Cargar el audio\n",
    "audio_path=\"../datasets/clips/common_voice_es_18306544.mp3\"\n",
    "signal, fs = torchaudio.load(audio_path)"
   ]
  },
  {
   "cell_type": "code",
   "execution_count": 4,
   "metadata": {},
   "outputs": [],
   "source": [
    "channels = signal.shape[0]"
   ]
  },
  {
   "cell_type": "code",
   "execution_count": 6,
   "metadata": {},
   "outputs": [],
   "source": [
    "if channels > 1:\n",
    "    signal = torch.mean(signal, dim=0, keepdim=True)"
   ]
  },
  {
   "cell_type": "code",
   "execution_count": 7,
   "metadata": {},
   "outputs": [
    {
     "name": "stdout",
     "output_type": "stream",
     "text": [
      "Embedding extraído: tensor([[[ 45.9552,  11.3242,   7.2495,   5.1523,   5.8442,  29.2937,  23.2398,\n",
      "            4.1433,  -5.9361,  17.1812,   6.0603,  -2.4667,  15.0233,  13.4960,\n",
      "            9.4590,  -2.2004,  25.2359,  -7.4886,   2.1391, -16.6895,   5.8721,\n",
      "           27.6558,  -3.3618,  -1.4429,  -2.7650,  11.4470, -21.2566,  -8.3811,\n",
      "           13.3189,  -2.3611,  10.6058,   4.6799, -19.4289, -19.1539,  -1.5453,\n",
      "           -1.8480,   8.2104,  -0.2861,  25.7270,  50.2305,   5.0405,   6.8999,\n",
      "           29.8201,  -9.8326,  20.6004, -10.1561,   0.5253,  16.1547,  15.7150,\n",
      "            6.3359,   7.4563, -20.0671,   2.0084,  15.3327,  -2.3666,   0.8973,\n",
      "          -25.3012,  15.5790,  -9.1580,  -6.8785,   8.6406,  -7.0376, -43.6440,\n",
      "           -5.8209, -17.5145,  19.3624,  -6.1340,  -1.7369,   5.8762, -32.1335,\n",
      "           -1.4074,  -0.2931,  -3.7197, -18.8660,  -1.5225,   0.8343, -23.6285,\n",
      "            6.2627,   2.5340,  11.7550,   8.7479,  13.5475,   1.8816, -21.1083,\n",
      "          -19.8585,   5.3130,  20.6076,   7.6152,  -3.6320,  18.9298,  -9.9879,\n",
      "            1.4620, -20.6056,  13.2119, -14.9201,  -8.3603,   7.7002,   3.6623,\n",
      "            6.4247,   3.7691, -30.8359,   4.3976,  10.7766,  10.6259,  12.3574,\n",
      "          -30.6324,  46.1012,  -1.9022,  -6.3856,   0.5121, -31.6490,  17.3204,\n",
      "          -19.9460, -10.2548, -26.3722,  -0.9645,   5.5953, -42.6112, -24.2263,\n",
      "          -29.5439,   6.3609,  14.6909, -29.5589, -21.0753,  17.5586, -19.2367,\n",
      "            4.8620,   7.8396,  -9.3728,  13.0280,   2.3377,   7.9558,  -9.8447,\n",
      "           -1.2555,  -5.7244,  10.9398, -30.2989,  -4.0978,  18.6089,  23.2104,\n",
      "          -23.3569,   3.8547,  23.8321,  -4.9909,  -3.5436,  -0.3637,   0.3737,\n",
      "           -0.6982,  -5.5090,  -0.7035, -16.0475, -13.5144,  -1.5449, -43.5551,\n",
      "           53.0075, -21.6678, -28.9157,  12.7948, -30.4766,  -8.6813,   3.0368,\n",
      "            6.7573,  -0.6779,  24.1465,  25.0178, -17.2796,  -4.6162,  12.8819,\n",
      "           -9.6117,   8.7227,   2.8003, -32.2969, -36.1781, -21.0579,   3.9210,\n",
      "          -23.4918,  34.6450,  35.5478,   8.4202,  -9.0707,  -6.4620,  23.4281,\n",
      "          -35.0481,  36.2370,  22.0840,   3.2700,   0.5969,  -0.6097,  -0.2531,\n",
      "           32.8610,   2.5187,  18.3510]]])\n"
     ]
    }
   ],
   "source": [
    "\n",
    "# Extraer el embedding\n",
    "embedding = model.encode_batch(signal)\n",
    "print(\"Embedding extraído:\", embedding)"
   ]
  }
 ],
 "metadata": {
  "kernelspec": {
   "display_name": "deep_learning_avanzado",
   "language": "python",
   "name": "python3"
  },
  "language_info": {
   "codemirror_mode": {
    "name": "ipython",
    "version": 3
   },
   "file_extension": ".py",
   "mimetype": "text/x-python",
   "name": "python",
   "nbconvert_exporter": "python",
   "pygments_lexer": "ipython3",
   "version": "3.10.15"
  }
 },
 "nbformat": 4,
 "nbformat_minor": 2
}
